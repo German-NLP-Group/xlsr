{
 "cells": [
  {
   "cell_type": "code",
   "execution_count": 64,
   "metadata": {},
   "outputs": [],
   "source": [
    "import optuna\n",
    "import pandas as pd"
   ]
  },
  {
   "cell_type": "code",
   "execution_count": 65,
   "metadata": {},
   "outputs": [],
   "source": [
    "study_name='stsb_de_en_cross_xlm_01_xval'\n",
    "storage='sqlite:///optuna_old.db'"
   ]
  },
  {
   "cell_type": "code",
   "execution_count": 66,
   "metadata": {},
   "outputs": [
    {
     "name": "stderr",
     "output_type": "stream",
     "text": [
      "\u001b[32m[I 2021-03-30 18:01:06,640]\u001b[0m Using an existing study with name 'stsb_de_en_cross_xlm_01_xval' instead of creating a new one.\u001b[0m\n"
     ]
    }
   ],
   "source": [
    "study = optuna.create_study(study_name=study_name, \n",
    "                            storage=storage,\n",
    "                            load_if_exists=True, direction='maximize')"
   ]
  },
  {
   "cell_type": "code",
   "execution_count": 67,
   "metadata": {},
   "outputs": [
    {
     "data": {
      "text/plain": [
       "84"
      ]
     },
     "execution_count": 67,
     "metadata": {},
     "output_type": "execute_result"
    }
   ],
   "source": [
    "trials = [t for t in study.get_trials() if t.value is not None]\n",
    "trials = sorted(trials, key=lambda trial: trial.value, reverse=True)\n",
    "len(trials)"
   ]
  },
  {
   "cell_type": "code",
   "execution_count": 68,
   "metadata": {},
   "outputs": [
    {
     "data": {
      "text/plain": [
       "10"
      ]
     },
     "execution_count": 68,
     "metadata": {},
     "output_type": "execute_result"
    }
   ],
   "source": [
    "trials = trials[:10]\n",
    "len(trials)"
   ]
  },
  {
   "cell_type": "code",
   "execution_count": 69,
   "metadata": {},
   "outputs": [
    {
     "name": "stdout",
     "output_type": "stream",
     "text": [
      "{'eps': 4.462251033010287e-06, 'lr': 1.026343323298136e-05, 'num_epochs': 2, 'train_batch_size': 8, 'warmup_steps_mul': 0.1609010732760181, 'weight_decay': 0.04794438776350409}\n",
      "{'eps': 7.212960031262609e-06, 'lr': 3.572217654258088e-05, 'num_epochs': 2, 'train_batch_size': 28, 'warmup_steps_mul': 0.10856860432182988, 'weight_decay': 0.022687471827662124}\n",
      "{'eps': 1.83682031546129e-06, 'lr': 2.4837128093399775e-05, 'num_epochs': 2, 'train_batch_size': 8, 'warmup_steps_mul': 0.2604129072434368, 'weight_decay': 0.06789899582936298}\n",
      "{'eps': 8.381011178341222e-06, 'lr': 3.4751153276214034e-05, 'num_epochs': 2, 'train_batch_size': 16, 'warmup_steps_mul': 0.13331513416513982, 'weight_decay': 0.04620738629994141}\n",
      "{'eps': 6.401555783845409e-07, 'lr': 2.1517581928031618e-05, 'num_epochs': 1, 'train_batch_size': 10, 'warmup_steps_mul': 0.27513467532343594, 'weight_decay': 0.07123524298217186}\n",
      "{'eps': 2.188982550746385e-06, 'lr': 2.2129773230713464e-05, 'num_epochs': 1, 'train_batch_size': 31, 'warmup_steps_mul': 0.11819989167688445, 'weight_decay': 0.05376371839021972}\n",
      "{'eps': 1.0229317675274577e-06, 'lr': 8.352099731550774e-06, 'num_epochs': 1, 'train_batch_size': 13, 'warmup_steps_mul': 0.1130230888198572, 'weight_decay': 0.059185873974363507}\n",
      "{'eps': 1.0467694195925008e-06, 'lr': 1.6666735205685973e-05, 'num_epochs': 1, 'train_batch_size': 11, 'warmup_steps_mul': 0.1017994539646612, 'weight_decay': 0.06070837076795628}\n",
      "{'eps': 1.618025447112691e-06, 'lr': 9.999838161038327e-06, 'num_epochs': 1, 'train_batch_size': 11, 'warmup_steps_mul': 0.20917143523433634, 'weight_decay': 0.09345539373222989}\n",
      "{'eps': 2.4219372956052325e-06, 'lr': 2.8516670897092593e-05, 'num_epochs': 1, 'train_batch_size': 22, 'warmup_steps_mul': 0.13494038511505135, 'weight_decay': 0.0597419619051129}\n"
     ]
    }
   ],
   "source": [
    "for t in trials:\n",
    "    print(t.params)"
   ]
  },
  {
   "cell_type": "code",
   "execution_count": 70,
   "metadata": {},
   "outputs": [],
   "source": [
    "del study"
   ]
  },
  {
   "cell_type": "code",
   "execution_count": 71,
   "metadata": {},
   "outputs": [
    {
     "name": "stderr",
     "output_type": "stream",
     "text": [
      "\u001b[32m[I 2021-03-30 18:01:07,868]\u001b[0m A new study created in RDB with name: xlsr_de_en_cross_stsb_08\u001b[0m\n"
     ]
    }
   ],
   "source": [
    "study_name='xlsr_de_en_cross_stsb_08'\n",
    "storage='sqlite:///optuna.db'\n",
    "\n",
    "study = optuna.create_study(study_name=study_name, \n",
    "                            storage=storage,\n",
    "                            load_if_exists=True, direction='maximize')"
   ]
  },
  {
   "cell_type": "code",
   "execution_count": 72,
   "metadata": {},
   "outputs": [
    {
     "name": "stderr",
     "output_type": "stream",
     "text": [
      "<ipython-input-72-63175010b445>:2: ExperimentalWarning: enqueue_trial is experimental (supported from v1.2.0). The interface can change in the future.\n",
      "  study.enqueue_trial(t.params)\n"
     ]
    }
   ],
   "source": [
    "for t in trials:\n",
    "    study.enqueue_trial(t.params)\n"
   ]
  },
  {
   "cell_type": "code",
   "execution_count": null,
   "metadata": {},
   "outputs": [],
   "source": []
  }
 ],
 "metadata": {
  "kernelspec": {
   "display_name": "Python [conda env:jupyter] *",
   "language": "python",
   "name": "conda-env-jupyter-py"
  },
  "language_info": {
   "codemirror_mode": {
    "name": "ipython",
    "version": 3
   },
   "file_extension": ".py",
   "mimetype": "text/x-python",
   "name": "python",
   "nbconvert_exporter": "python",
   "pygments_lexer": "ipython3",
   "version": "3.8.8"
  }
 },
 "nbformat": 4,
 "nbformat_minor": 4
}
