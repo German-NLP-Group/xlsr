{
 "metadata": {
  "language_info": {
   "codemirror_mode": {
    "name": "ipython",
    "version": 3
   },
   "file_extension": ".py",
   "mimetype": "text/x-python",
   "name": "python",
   "nbconvert_exporter": "python",
   "pygments_lexer": "ipython3",
   "version": "3.8.8-final"
  },
  "orig_nbformat": 2,
  "kernelspec": {
   "name": "python3",
   "display_name": "Python 3.8.8 64-bit ('xlsr-dev': conda)",
   "metadata": {
    "interpreter": {
     "hash": "80d6f2dc3d52651680cba8456703a683893cbe4dafaa64c4187c780577afac34"
    }
   }
  }
 },
 "nbformat": 4,
 "nbformat_minor": 2,
 "cells": [
  {
   "source": [
    "# XNLI Data Exporation and Preprocessing"
   ],
   "cell_type": "markdown",
   "metadata": {}
  },
  {
   "cell_type": "code",
   "execution_count": 1,
   "metadata": {},
   "outputs": [],
   "source": [
    "import pandas as pd"
   ]
  },
  {
   "cell_type": "code",
   "execution_count": 2,
   "metadata": {},
   "outputs": [
    {
     "output_type": "execute_result",
     "data": {
      "text/plain": [
       "      language     gold_label  \\\n",
       "0           ar        neutral   \n",
       "1           ar  contradiction   \n",
       "2           ar     entailment   \n",
       "3           ar        neutral   \n",
       "4           ar  contradiction   \n",
       "...        ...            ...   \n",
       "37345       zh        neutral   \n",
       "37346       zh  contradiction   \n",
       "37347       zh        neutral   \n",
       "37348       zh  contradiction   \n",
       "37349       zh     entailment   \n",
       "\n",
       "                                               sentence1  \\\n",
       "0                            وقال، ماما، لقد عدت للمنزل.   \n",
       "1                            وقال، ماما، لقد عدت للمنزل.   \n",
       "2                            وقال، ماما، لقد عدت للمنزل.   \n",
       "3      لم أعرف من أجل ماذا أنا ذاهب أو أي شىْ ، لذلك ...   \n",
       "4      لم أعرف من أجل ماذا أنا ذاهب أو أي شىْ ، لذلك ...   \n",
       "...                                                  ...   \n",
       "37345  Feisty就像fizzle一样，开始于中古英语的fysten，比如fisten `to f...   \n",
       "37346  Feisty就像fizzle一样，开始于中古英语的fysten，比如fisten `to f...   \n",
       "37347                              虽然陈述更好，但答案给出了完成的心理图景。   \n",
       "37348                              虽然陈述更好，但答案给出了完成的心理图景。   \n",
       "37349                              虽然陈述更好，但答案给出了完成的心理图景。   \n",
       "\n",
       "                                               sentence2  \n",
       "0                 اتصل بأمه حالما أوصلته حافلة المدرسية.  \n",
       "1                                      لم ينطق ببنت شفة.  \n",
       "2                            أخبر أمه أنه قد عاد للمنزل.  \n",
       "3      لم أذهب إلى واشنطن من قبل، لذا عندما تم تكليفي...  \n",
       "4      لقد عرفت بالضبط ما الذي احتجت أن أفعله عندما م...  \n",
       "...                                                  ...  \n",
       "37345                                   Fiesty已经面世100年了。  \n",
       "37346                                   Fiesty与fisten无关。  \n",
       "37347                                         声明给出了更多细节。  \n",
       "37348                                            声明未必更好。  \n",
       "37349                                           声明更略胜一筹。  \n",
       "\n",
       "[37350 rows x 4 columns]"
      ],
      "text/html": "<div>\n<style scoped>\n    .dataframe tbody tr th:only-of-type {\n        vertical-align: middle;\n    }\n\n    .dataframe tbody tr th {\n        vertical-align: top;\n    }\n\n    .dataframe thead th {\n        text-align: right;\n    }\n</style>\n<table border=\"1\" class=\"dataframe\">\n  <thead>\n    <tr style=\"text-align: right;\">\n      <th></th>\n      <th>language</th>\n      <th>gold_label</th>\n      <th>sentence1</th>\n      <th>sentence2</th>\n    </tr>\n  </thead>\n  <tbody>\n    <tr>\n      <th>0</th>\n      <td>ar</td>\n      <td>neutral</td>\n      <td>وقال، ماما، لقد عدت للمنزل.</td>\n      <td>اتصل بأمه حالما أوصلته حافلة المدرسية.</td>\n    </tr>\n    <tr>\n      <th>1</th>\n      <td>ar</td>\n      <td>contradiction</td>\n      <td>وقال، ماما، لقد عدت للمنزل.</td>\n      <td>لم ينطق ببنت شفة.</td>\n    </tr>\n    <tr>\n      <th>2</th>\n      <td>ar</td>\n      <td>entailment</td>\n      <td>وقال، ماما، لقد عدت للمنزل.</td>\n      <td>أخبر أمه أنه قد عاد للمنزل.</td>\n    </tr>\n    <tr>\n      <th>3</th>\n      <td>ar</td>\n      <td>neutral</td>\n      <td>لم أعرف من أجل ماذا أنا ذاهب أو أي شىْ ، لذلك ...</td>\n      <td>لم أذهب إلى واشنطن من قبل، لذا عندما تم تكليفي...</td>\n    </tr>\n    <tr>\n      <th>4</th>\n      <td>ar</td>\n      <td>contradiction</td>\n      <td>لم أعرف من أجل ماذا أنا ذاهب أو أي شىْ ، لذلك ...</td>\n      <td>لقد عرفت بالضبط ما الذي احتجت أن أفعله عندما م...</td>\n    </tr>\n    <tr>\n      <th>...</th>\n      <td>...</td>\n      <td>...</td>\n      <td>...</td>\n      <td>...</td>\n    </tr>\n    <tr>\n      <th>37345</th>\n      <td>zh</td>\n      <td>neutral</td>\n      <td>Feisty就像fizzle一样，开始于中古英语的fysten，比如fisten `to f...</td>\n      <td>Fiesty已经面世100年了。</td>\n    </tr>\n    <tr>\n      <th>37346</th>\n      <td>zh</td>\n      <td>contradiction</td>\n      <td>Feisty就像fizzle一样，开始于中古英语的fysten，比如fisten `to f...</td>\n      <td>Fiesty与fisten无关。</td>\n    </tr>\n    <tr>\n      <th>37347</th>\n      <td>zh</td>\n      <td>neutral</td>\n      <td>虽然陈述更好，但答案给出了完成的心理图景。</td>\n      <td>声明给出了更多细节。</td>\n    </tr>\n    <tr>\n      <th>37348</th>\n      <td>zh</td>\n      <td>contradiction</td>\n      <td>虽然陈述更好，但答案给出了完成的心理图景。</td>\n      <td>声明未必更好。</td>\n    </tr>\n    <tr>\n      <th>37349</th>\n      <td>zh</td>\n      <td>entailment</td>\n      <td>虽然陈述更好，但答案给出了完成的心理图景。</td>\n      <td>声明更略胜一筹。</td>\n    </tr>\n  </tbody>\n</table>\n<p>37350 rows × 4 columns</p>\n</div>"
     },
     "metadata": {},
     "execution_count": 2
    }
   ],
   "source": [
    "df_dev = pd.read_csv(\"./data/XNLI-1.0/xnli.dev.tsv\", sep=\"\\t\")\n",
    "df_dev = df_dev[[\"language\", \"gold_label\", \"sentence1\", \"sentence2\"]]\n",
    "df_dev"
   ]
  },
  {
   "cell_type": "code",
   "execution_count": 3,
   "metadata": {},
   "outputs": [
    {
     "output_type": "execute_result",
     "data": {
      "text/plain": [
       "      language     gold_label  \\\n",
       "0           ar  contradiction   \n",
       "1           ar     entailment   \n",
       "2           ar        neutral   \n",
       "3           ar        neutral   \n",
       "4           ar     entailment   \n",
       "...        ...            ...   \n",
       "75145       zh     entailment   \n",
       "75146       zh  contradiction   \n",
       "75147       zh        neutral   \n",
       "75148       zh  contradiction   \n",
       "75149       zh     entailment   \n",
       "\n",
       "                                               sentence1  \\\n",
       "0      حسنا ، لم أكن أفكر حتى حول ذلك ، لكن كنت محبطا...   \n",
       "1      حسنا ، لم أكن أفكر حتى حول ذلك ، لكن كنت محبطا...   \n",
       "2      حسنا ، لم أكن أفكر حتى حول ذلك ، لكن كنت محبطا...   \n",
       "3      واعتقدت أن ذلك شرف لي ، ولا يزال ، ولايزال ، ك...   \n",
       "4      واعتقدت أن ذلك شرف لي ، ولا يزال ، ولايزال ، ك...   \n",
       "...                                                  ...   \n",
       "75145  戴维森不应该用“scone”的发音来和“bone”押韵 - 无论如何不是因为维多利亚，而是他...   \n",
       "75146  戴维森不应该用“scone”的发音来和“bone”押韵 - 无论如何不是因为维多利亚，而是他...   \n",
       "75147                               20万字的小说平均每8000字25美元。   \n",
       "75148                               20万字的小说平均每8000字25美元。   \n",
       "75149                               20万字的小说平均每8000字25美元。   \n",
       "\n",
       "                                               sentence2  \n",
       "0                                 لم أتحدث معه مرة أخرى.  \n",
       "1      كنت مستاء جدا لدرجة أنني بدأت بالحديث معه مرة ...  \n",
       "2                                   دار بيننا حديث رائع.  \n",
       "3      لم أكن على علم بأنني لم أكن الشخص الوحيد الذي ...  \n",
       "4      كان لدي إنطباع أنني كنت الشخص الوحيد الذي لديه...  \n",
       "...                                                  ...  \n",
       "75145                            戴维森不应该以骨头和烤饼听起来一样的方式说话。  \n",
       "75146                              如果戴维森押韵饼和骨头的话, 那就更好了。  \n",
       "75147                                 价值25美元的20万字小说价格合理。  \n",
       "75148                           25美元的20万字的小说就是每美元4,000字。  \n",
       "75149                          25美元的20万字的小说相当于每美元8000个字。  \n",
       "\n",
       "[75150 rows x 4 columns]"
      ],
      "text/html": "<div>\n<style scoped>\n    .dataframe tbody tr th:only-of-type {\n        vertical-align: middle;\n    }\n\n    .dataframe tbody tr th {\n        vertical-align: top;\n    }\n\n    .dataframe thead th {\n        text-align: right;\n    }\n</style>\n<table border=\"1\" class=\"dataframe\">\n  <thead>\n    <tr style=\"text-align: right;\">\n      <th></th>\n      <th>language</th>\n      <th>gold_label</th>\n      <th>sentence1</th>\n      <th>sentence2</th>\n    </tr>\n  </thead>\n  <tbody>\n    <tr>\n      <th>0</th>\n      <td>ar</td>\n      <td>contradiction</td>\n      <td>حسنا ، لم أكن أفكر حتى حول ذلك ، لكن كنت محبطا...</td>\n      <td>لم أتحدث معه مرة أخرى.</td>\n    </tr>\n    <tr>\n      <th>1</th>\n      <td>ar</td>\n      <td>entailment</td>\n      <td>حسنا ، لم أكن أفكر حتى حول ذلك ، لكن كنت محبطا...</td>\n      <td>كنت مستاء جدا لدرجة أنني بدأت بالحديث معه مرة ...</td>\n    </tr>\n    <tr>\n      <th>2</th>\n      <td>ar</td>\n      <td>neutral</td>\n      <td>حسنا ، لم أكن أفكر حتى حول ذلك ، لكن كنت محبطا...</td>\n      <td>دار بيننا حديث رائع.</td>\n    </tr>\n    <tr>\n      <th>3</th>\n      <td>ar</td>\n      <td>neutral</td>\n      <td>واعتقدت أن ذلك شرف لي ، ولا يزال ، ولايزال ، ك...</td>\n      <td>لم أكن على علم بأنني لم أكن الشخص الوحيد الذي ...</td>\n    </tr>\n    <tr>\n      <th>4</th>\n      <td>ar</td>\n      <td>entailment</td>\n      <td>واعتقدت أن ذلك شرف لي ، ولا يزال ، ولايزال ، ك...</td>\n      <td>كان لدي إنطباع أنني كنت الشخص الوحيد الذي لديه...</td>\n    </tr>\n    <tr>\n      <th>...</th>\n      <td>...</td>\n      <td>...</td>\n      <td>...</td>\n      <td>...</td>\n    </tr>\n    <tr>\n      <th>75145</th>\n      <td>zh</td>\n      <td>entailment</td>\n      <td>戴维森不应该用“scone”的发音来和“bone”押韵 - 无论如何不是因为维多利亚，而是他...</td>\n      <td>戴维森不应该以骨头和烤饼听起来一样的方式说话。</td>\n    </tr>\n    <tr>\n      <th>75146</th>\n      <td>zh</td>\n      <td>contradiction</td>\n      <td>戴维森不应该用“scone”的发音来和“bone”押韵 - 无论如何不是因为维多利亚，而是他...</td>\n      <td>如果戴维森押韵饼和骨头的话, 那就更好了。</td>\n    </tr>\n    <tr>\n      <th>75147</th>\n      <td>zh</td>\n      <td>neutral</td>\n      <td>20万字的小说平均每8000字25美元。</td>\n      <td>价值25美元的20万字小说价格合理。</td>\n    </tr>\n    <tr>\n      <th>75148</th>\n      <td>zh</td>\n      <td>contradiction</td>\n      <td>20万字的小说平均每8000字25美元。</td>\n      <td>25美元的20万字的小说就是每美元4,000字。</td>\n    </tr>\n    <tr>\n      <th>75149</th>\n      <td>zh</td>\n      <td>entailment</td>\n      <td>20万字的小说平均每8000字25美元。</td>\n      <td>25美元的20万字的小说相当于每美元8000个字。</td>\n    </tr>\n  </tbody>\n</table>\n<p>75150 rows × 4 columns</p>\n</div>"
     },
     "metadata": {},
     "execution_count": 3
    }
   ],
   "source": [
    "df_test = pd.read_csv(\"./data/XNLI-1.0/xnli.test.tsv\", sep=\"\\t\")\n",
    "df_test = df_test[[\"language\", \"gold_label\", \"sentence1\", \"sentence2\"]]\n",
    "df_test"
   ]
  },
  {
   "cell_type": "code",
   "execution_count": 4,
   "metadata": {},
   "outputs": [
    {
     "output_type": "execute_result",
     "data": {
      "text/plain": [
       "ar    2490\n",
       "tr    2490\n",
       "zh    2490\n",
       "fr    2490\n",
       "es    2490\n",
       "vi    2490\n",
       "en    2490\n",
       "bg    2490\n",
       "ru    2490\n",
       "sw    2490\n",
       "hi    2490\n",
       "el    2490\n",
       "th    2490\n",
       "ur    2490\n",
       "de    2490\n",
       "Name: language, dtype: int64"
      ]
     },
     "metadata": {},
     "execution_count": 4
    }
   ],
   "source": [
    "df_dev[\"language\"].value_counts(dropna=True)"
   ]
  },
  {
   "cell_type": "code",
   "execution_count": 5,
   "metadata": {},
   "outputs": [
    {
     "output_type": "execute_result",
     "data": {
      "text/plain": [
       "ar    5010\n",
       "tr    5010\n",
       "fr    5010\n",
       "es    5010\n",
       "en    5010\n",
       "bg    5010\n",
       "hi    5010\n",
       "el    5010\n",
       "zh    5010\n",
       "vi    5010\n",
       "ru    5010\n",
       "sw    5010\n",
       "th    5010\n",
       "ur    5010\n",
       "de    5010\n",
       "Name: language, dtype: int64"
      ]
     },
     "metadata": {},
     "execution_count": 5
    }
   ],
   "source": [
    "df_test[\"language\"].value_counts(dropna=True)"
   ]
  },
  {
   "cell_type": "code",
   "execution_count": 6,
   "metadata": {},
   "outputs": [
    {
     "output_type": "execute_result",
     "data": {
      "text/plain": [
       "contradiction    12450\n",
       "entailment       12450\n",
       "neutral          12450\n",
       "Name: gold_label, dtype: int64"
      ]
     },
     "metadata": {},
     "execution_count": 6
    }
   ],
   "source": [
    "df_dev[\"gold_label\"].value_counts(dropna=True)"
   ]
  },
  {
   "cell_type": "code",
   "execution_count": 7,
   "metadata": {},
   "outputs": [
    {
     "output_type": "execute_result",
     "data": {
      "text/plain": [
       "entailment       25050\n",
       "contradiction    25050\n",
       "neutral          25050\n",
       "Name: gold_label, dtype: int64"
      ]
     },
     "metadata": {},
     "execution_count": 7
    }
   ],
   "source": [
    "df_test[\"gold_label\"].value_counts(dropna=True)"
   ]
  },
  {
   "cell_type": "code",
   "execution_count": 8,
   "metadata": {},
   "outputs": [],
   "source": [
    "df_dev_de = df_dev[df_dev['language'] == \"de\"]\n",
    "assert len(df_dev_de) == 2490\n",
    "df_test_de = df_test[df_test['language'] == \"de\"]\n",
    "assert len(df_test_de) == 5010\n"
   ]
  },
  {
   "cell_type": "code",
   "execution_count": 9,
   "metadata": {},
   "outputs": [],
   "source": [
    "df_dev_en = df_dev[df_dev['language'] == \"en\"]\n",
    "assert len(df_dev_en) == 2490\n",
    "df_test_en = df_test[df_test['language'] == \"en\"]\n",
    "assert len(df_test_en) == 5010\n"
   ]
  },
  {
   "cell_type": "code",
   "execution_count": 10,
   "metadata": {},
   "outputs": [],
   "source": [
    "df_all_de = pd.concat([df_test_de, df_dev_de], ignore_index=True)\n",
    "assert len(df_all_de) == 2490 + 5010"
   ]
  },
  {
   "cell_type": "code",
   "execution_count": 11,
   "metadata": {},
   "outputs": [],
   "source": [
    "df_all_en = pd.concat([df_test_en, df_dev_en], ignore_index=True)\n",
    "assert len(df_all_en) == 2490 + 5010"
   ]
  },
  {
   "cell_type": "code",
   "execution_count": 12,
   "metadata": {},
   "outputs": [
    {
     "output_type": "execute_result",
     "data": {
      "text/plain": [
       "entailment       2500\n",
       "neutral          2500\n",
       "contradiction    2500\n",
       "Name: gold_label, dtype: int64"
      ]
     },
     "metadata": {},
     "execution_count": 12
    }
   ],
   "source": [
    "df_all_de[\"gold_label\"].value_counts(dropna=True)\n"
   ]
  },
  {
   "cell_type": "code",
   "execution_count": 13,
   "metadata": {},
   "outputs": [
    {
     "output_type": "execute_result",
     "data": {
      "text/plain": [
       "entailment       2500\n",
       "neutral          2500\n",
       "contradiction    2500\n",
       "Name: gold_label, dtype: int64"
      ]
     },
     "metadata": {},
     "execution_count": 13
    }
   ],
   "source": [
    "df_all_en[\"gold_label\"].value_counts(dropna=True)\n"
   ]
  },
  {
   "cell_type": "code",
   "execution_count": 14,
   "metadata": {},
   "outputs": [],
   "source": [
    "df_all_de.to_csv(\"./data/xnli-1.0-all-de.csv\", index=False)\n"
   ]
  },
  {
   "cell_type": "code",
   "execution_count": 15,
   "metadata": {},
   "outputs": [],
   "source": [
    "df_all_en.to_csv(\"./data/xnli-1.0-all-en.csv\", index=False)\n"
   ]
  },
  {
   "cell_type": "code",
   "execution_count": null,
   "metadata": {},
   "outputs": [],
   "source": []
  }
 ]
}