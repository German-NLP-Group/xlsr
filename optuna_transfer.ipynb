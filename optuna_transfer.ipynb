{
 "cells": [
  {
   "cell_type": "code",
   "execution_count": 8,
   "metadata": {},
   "outputs": [],
   "source": [
    "import optuna\n",
    "import pandas as pd"
   ]
  },
  {
   "cell_type": "code",
   "execution_count": 9,
   "metadata": {},
   "outputs": [],
   "source": [
    "study_name='xlsr_de_en_cross_stsb_08'\n",
    "storage='sqlite:///optuna.db'"
   ]
  },
  {
   "cell_type": "code",
   "execution_count": 10,
   "metadata": {},
   "outputs": [
    {
     "name": "stderr",
     "output_type": "stream",
     "text": [
      "\u001b[32m[I 2021-04-03 07:39:42,300]\u001b[0m Using an existing study with name 'xlsr_de_en_cross_stsb_08' instead of creating a new one.\u001b[0m\n"
     ]
    }
   ],
   "source": [
    "study = optuna.create_study(\n",
    "    study_name=study_name, \n",
    "    storage=storage,\n",
    "    load_if_exists=True, \n",
    "    direction='maximize',\n",
    ")"
   ]
  },
  {
   "cell_type": "code",
   "execution_count": 11,
   "metadata": {},
   "outputs": [
    {
     "name": "stdout",
     "output_type": "stream",
     "text": [
      "31\n"
     ]
    }
   ],
   "source": [
    "old_trials = study.trials.copy()\n",
    "print(len(old_trials))\n",
    "\n",
    "del study"
   ]
  },
  {
   "cell_type": "code",
   "execution_count": 12,
   "metadata": {},
   "outputs": [],
   "source": [
    "xnli_entailment_label_dist = optuna.distributions.UniformDistribution(0.5, 1.0)\n",
    "xnli_entailment_proportion_dist = optuna.distributions.UniformDistribution(0.0, 1.0)"
   ]
  },
  {
   "cell_type": "code",
   "execution_count": 13,
   "metadata": {},
   "outputs": [
    {
     "name": "stderr",
     "output_type": "stream",
     "text": [
      "\u001b[32m[I 2021-04-03 07:39:44,129]\u001b[0m A new study created in RDB with name: xlsr_de_en_cross_stsb_08_xnli_02\u001b[0m\n"
     ]
    }
   ],
   "source": [
    "new_study = optuna.create_study(\n",
    "    storage='sqlite:///optuna.db', \n",
    "    study_name='xlsr_de_en_cross_stsb_08_xnli_02', \n",
    "    direction='maximize',\n",
    ")\n"
   ]
  },
  {
   "cell_type": "code",
   "execution_count": 14,
   "metadata": {},
   "outputs": [
    {
     "name": "stderr",
     "output_type": "stream",
     "text": [
      "<ipython-input-14-f5f7c48e4f2a>:14: ExperimentalWarning: add_trial is experimental (supported from v2.0.0). The interface can change in the future.\n",
      "  new_study.add_trial(trial)\n"
     ]
    }
   ],
   "source": [
    "for trial in old_trials:\n",
    "    # Modify previous trials. These changes are not persisted to the storage.\n",
    "    params = trial.params\n",
    "    dists = trial.distributions\n",
    "\n",
    "    params[\"xnli_entailment_label\"] = 0.9\n",
    "    params[\"xnli_entailment_proportion\"] = 0.0\n",
    "    dists[\"xnli_entailment_label\"] = xnli_entailment_label_dist\n",
    "    dists[\"xnli_entailment_proportion\"] = xnli_entailment_proportion_dist\n",
    "    \n",
    "    trial.params = params\n",
    "    trial.distributions = dists\n",
    "\n",
    "    new_study.add_trial(trial)"
   ]
  },
  {
   "cell_type": "code",
   "execution_count": null,
   "metadata": {},
   "outputs": [],
   "source": []
  }
 ],
 "metadata": {
  "kernelspec": {
   "display_name": "Python [conda env:jupyter] *",
   "language": "python",
   "name": "conda-env-jupyter-py"
  },
  "language_info": {
   "codemirror_mode": {
    "name": "ipython",
    "version": 3
   },
   "file_extension": ".py",
   "mimetype": "text/x-python",
   "name": "python",
   "nbconvert_exporter": "python",
   "pygments_lexer": "ipython3",
   "version": "3.8.8"
  }
 },
 "nbformat": 4,
 "nbformat_minor": 4
}
