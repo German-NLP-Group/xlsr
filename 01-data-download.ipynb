{
 "metadata": {
  "language_info": {
   "codemirror_mode": {
    "name": "ipython",
    "version": 3
   },
   "file_extension": ".py",
   "mimetype": "text/x-python",
   "name": "python",
   "nbconvert_exporter": "python",
   "pygments_lexer": "ipython3",
   "version": "3.8.8-final"
  },
  "orig_nbformat": 2,
  "kernelspec": {
   "name": "python3",
   "display_name": "Python 3.8.8 64-bit ('xlsr-dev': conda)",
   "metadata": {
    "interpreter": {
     "hash": "80d6f2dc3d52651680cba8456703a683893cbe4dafaa64c4187c780577afac34"
    }
   }
  }
 },
 "nbformat": 4,
 "nbformat_minor": 2,
 "cells": [
  {
   "source": [
    "# Download all Data"
   ],
   "cell_type": "markdown",
   "metadata": {}
  },
  {
   "cell_type": "code",
   "execution_count": 1,
   "metadata": {},
   "outputs": [
    {
     "output_type": "stream",
     "name": "stdout",
     "text": [
      "--2021-03-22 19:48:50--  https://raw.githubusercontent.com/PhilipMay/stsb-multi-mt/main/data/stsb-en-train.csv\n",
      "Loaded CA certificate '/etc/ssl/certs/ca-certificates.crt'\n",
      "Resolving raw.githubusercontent.com (raw.githubusercontent.com)... 185.199.108.133, 185.199.111.133, 185.199.110.133, ...\n",
      "Connecting to raw.githubusercontent.com (raw.githubusercontent.com)|185.199.108.133|:443... connected.\n",
      "HTTP request sent, awaiting response... 200 OK\n",
      "Length: 708863 (692K) [text/plain]\n",
      "Saving to: ‘./data/stsb-en-train.csv’\n",
      "\n",
      "stsb-en-train.csv   100%[===================>] 692,25K  1,44MB/s    in 0,5s    \n",
      "\n",
      "2021-03-22 19:48:50 (1,44 MB/s) - ‘./data/stsb-en-train.csv’ saved [708863/708863]\n",
      "\n"
     ]
    }
   ],
   "source": [
    "!wget -P ./data https://raw.githubusercontent.com/PhilipMay/stsb-multi-mt/main/data/stsb-en-train.csv"
   ]
  },
  {
   "cell_type": "code",
   "execution_count": 2,
   "metadata": {},
   "outputs": [
    {
     "output_type": "stream",
     "name": "stdout",
     "text": [
      "--2021-03-22 19:48:50--  https://raw.githubusercontent.com/PhilipMay/stsb-multi-mt/main/data/stsb-en-dev.csv\n",
      "Loaded CA certificate '/etc/ssl/certs/ca-certificates.crt'\n",
      "Resolving raw.githubusercontent.com (raw.githubusercontent.com)... 185.199.108.133, 185.199.111.133, 185.199.110.133, ...\n",
      "Connecting to raw.githubusercontent.com (raw.githubusercontent.com)|185.199.108.133|:443... connected.\n",
      "HTTP request sent, awaiting response... 200 OK\n",
      "Length: 204675 (200K) [text/plain]\n",
      "Saving to: ‘./data/stsb-en-dev.csv’\n",
      "\n",
      "stsb-en-dev.csv     100%[===================>] 199,88K  --.-KB/s    in 0,1s    \n",
      "\n",
      "2021-03-22 19:48:51 (1,57 MB/s) - ‘./data/stsb-en-dev.csv’ saved [204675/204675]\n",
      "\n"
     ]
    }
   ],
   "source": [
    "!wget -P ./data https://raw.githubusercontent.com/PhilipMay/stsb-multi-mt/main/data/stsb-en-dev.csv\n"
   ]
  },
  {
   "cell_type": "code",
   "execution_count": null,
   "metadata": {},
   "outputs": [],
   "source": []
  }
 ]
}