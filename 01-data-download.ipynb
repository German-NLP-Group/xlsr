{
 "metadata": {
  "language_info": {
   "codemirror_mode": {
    "name": "ipython",
    "version": 3
   },
   "file_extension": ".py",
   "mimetype": "text/x-python",
   "name": "python",
   "nbconvert_exporter": "python",
   "pygments_lexer": "ipython3",
   "version": "3.8.8-final"
  },
  "orig_nbformat": 2,
  "kernelspec": {
   "name": "python3",
   "display_name": "Python 3.8.8 64-bit ('xlsr-dev': conda)",
   "metadata": {
    "interpreter": {
     "hash": "80d6f2dc3d52651680cba8456703a683893cbe4dafaa64c4187c780577afac34"
    }
   }
  }
 },
 "nbformat": 4,
 "nbformat_minor": 2,
 "cells": [
  {
   "source": [
    "# Download all Data"
   ],
   "cell_type": "markdown",
   "metadata": {}
  },
  {
   "cell_type": "code",
   "execution_count": 1,
   "metadata": {},
   "outputs": [
    {
     "output_type": "stream",
     "name": "stdout",
     "text": [
      "--2021-03-23 18:45:16--  https://raw.githubusercontent.com/PhilipMay/stsb-multi-mt/main/data/stsb-en-train.csv\n",
      "Loaded CA certificate '/etc/ssl/certs/ca-certificates.crt'\n",
      "Resolving raw.githubusercontent.com (raw.githubusercontent.com)... 185.199.109.133, 185.199.111.133, 185.199.108.133, ...\n",
      "Connecting to raw.githubusercontent.com (raw.githubusercontent.com)|185.199.109.133|:443... connected.\n",
      "HTTP request sent, awaiting response... 200 OK\n",
      "Length: 708863 (692K) [text/plain]\n",
      "Saving to: ‘./data/stsb-en-train.csv’\n",
      "\n",
      "stsb-en-train.csv   100%[===================>] 692,25K  1,54MB/s    in 0,4s    \n",
      "\n",
      "2021-03-23 18:45:16 (1,54 MB/s) - ‘./data/stsb-en-train.csv’ saved [708863/708863]\n",
      "\n"
     ]
    }
   ],
   "source": [
    "!wget -P ./data https://raw.githubusercontent.com/PhilipMay/stsb-multi-mt/main/data/stsb-en-train.csv"
   ]
  },
  {
   "cell_type": "code",
   "execution_count": 2,
   "metadata": {},
   "outputs": [
    {
     "output_type": "stream",
     "name": "stdout",
     "text": [
      "--2021-03-23 18:45:17--  https://raw.githubusercontent.com/PhilipMay/stsb-multi-mt/main/data/stsb-en-dev.csv\n",
      "Loaded CA certificate '/etc/ssl/certs/ca-certificates.crt'\n",
      "Resolving raw.githubusercontent.com (raw.githubusercontent.com)... 185.199.109.133, 185.199.111.133, 185.199.108.133, ...\n",
      "Connecting to raw.githubusercontent.com (raw.githubusercontent.com)|185.199.109.133|:443... connected.\n",
      "HTTP request sent, awaiting response... 200 OK\n",
      "Length: 204675 (200K) [text/plain]\n",
      "Saving to: ‘./data/stsb-en-dev.csv’\n",
      "\n",
      "stsb-en-dev.csv     100%[===================>] 199,88K  1,25MB/s    in 0,2s    \n",
      "\n",
      "2021-03-23 18:45:17 (1,25 MB/s) - ‘./data/stsb-en-dev.csv’ saved [204675/204675]\n",
      "\n"
     ]
    }
   ],
   "source": [
    "!wget -P ./data https://raw.githubusercontent.com/PhilipMay/stsb-multi-mt/main/data/stsb-en-dev.csv\n"
   ]
  },
  {
   "cell_type": "code",
   "execution_count": 3,
   "metadata": {},
   "outputs": [
    {
     "output_type": "stream",
     "name": "stdout",
     "text": [
      "--2021-03-23 18:45:17--  https://dl.fbaipublicfiles.com/XNLI/XNLI-1.0.zip\n",
      "Loaded CA certificate '/etc/ssl/certs/ca-certificates.crt'\n",
      "Resolving dl.fbaipublicfiles.com (dl.fbaipublicfiles.com)... 172.67.9.4, 104.22.74.142, 104.22.75.142, ...\n",
      "Connecting to dl.fbaipublicfiles.com (dl.fbaipublicfiles.com)|172.67.9.4|:443... connected.\n",
      "HTTP request sent, awaiting response... 200 OK\n",
      "Length: 17865352 (17M) [application/zip]\n",
      "Saving to: ‘./data/XNLI-1.0.zip’\n",
      "\n",
      "XNLI-1.0.zip        100%[===================>]  17,04M  1,60MB/s    in 12s     \n",
      "\n",
      "2021-03-23 18:45:30 (1,44 MB/s) - ‘./data/XNLI-1.0.zip’ saved [17865352/17865352]\n",
      "\n"
     ]
    }
   ],
   "source": [
    "!wget -P ./data https://dl.fbaipublicfiles.com/XNLI/XNLI-1.0.zip"
   ]
  },
  {
   "cell_type": "code",
   "execution_count": 4,
   "metadata": {},
   "outputs": [
    {
     "output_type": "stream",
     "name": "stdout",
     "text": [
      "Archive:  ./data/XNLI-1.0.zip\n",
      "   creating: ./data/XNLI-1.0/\n",
      "  inflating: ./data/XNLI-1.0/.DS_Store  \n",
      "   creating: ./data/__MACOSX/\n",
      "   creating: ./data/__MACOSX/XNLI-1.0/\n",
      "  inflating: ./data/__MACOSX/XNLI-1.0/._.DS_Store  \n",
      "  inflating: ./data/XNLI-1.0/xnli.dev.tsv  \n",
      "  inflating: ./data/__MACOSX/XNLI-1.0/._xnli.dev.tsv  \n",
      "  inflating: ./data/XNLI-1.0/xnli.dev.jsonl  \n",
      "  inflating: ./data/XNLI-1.0/README.md  \n",
      "  inflating: ./data/__MACOSX/XNLI-1.0/._README.md  \n",
      "  inflating: ./data/XNLI-1.0/xnli.test.jsonl  \n",
      "  inflating: ./data/XNLI-1.0/xnli.test.tsv  \n",
      "  inflating: ./data/__MACOSX/XNLI-1.0/._xnli.test.tsv  \n",
      "  inflating: ./data/__MACOSX/._XNLI-1.0  \n"
     ]
    }
   ],
   "source": [
    "!unzip ./data/XNLI-1.0.zip -d ./data"
   ]
  },
  {
   "cell_type": "code",
   "execution_count": 5,
   "metadata": {},
   "outputs": [],
   "source": [
    "!rm -r ./data/__MACOSX"
   ]
  },
  {
   "cell_type": "code",
   "execution_count": null,
   "metadata": {},
   "outputs": [],
   "source": []
  }
 ]
}